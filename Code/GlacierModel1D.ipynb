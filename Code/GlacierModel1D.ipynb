version https://git-lfs.github.com/spec/v1
oid sha256:00ef3193f82330599e4b79a755f895c280e72894ea5325cee1b07a99f62bd181
size 160231
