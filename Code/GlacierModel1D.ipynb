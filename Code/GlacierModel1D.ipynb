version https://git-lfs.github.com/spec/v1
oid sha256:230640cb458639e9e9bffabc0c22b725abc8aa91d92a671fc7a652e5eebd1560
size 56078
