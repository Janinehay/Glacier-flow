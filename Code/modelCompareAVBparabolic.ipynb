version https://git-lfs.github.com/spec/v1
oid sha256:e25d99e4109bfe3d705f666e8ee0f810d9955e97ec5dcef4483de3558272d995
size 235676
