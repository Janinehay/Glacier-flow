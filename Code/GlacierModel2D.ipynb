version https://git-lfs.github.com/spec/v1
oid sha256:4c769fe08f1c1e29ee207633a6935e937e3baaa81b3f89ac8e1fa05bfc64272b
size 1847195
