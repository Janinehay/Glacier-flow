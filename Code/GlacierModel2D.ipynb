version https://git-lfs.github.com/spec/v1
oid sha256:be90d5a1c861dc6312c368433a2e00f4b9e4088cb074a95a8aae880a8ff45890
size 110362
