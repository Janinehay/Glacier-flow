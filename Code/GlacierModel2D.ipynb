version https://git-lfs.github.com/spec/v1
oid sha256:3f7cc9d163af12dce9983cb2e2b0d179e370db835a7e913c01dfb9f888575539
size 26247
