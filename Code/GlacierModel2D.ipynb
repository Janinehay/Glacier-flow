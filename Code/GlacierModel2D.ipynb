version https://git-lfs.github.com/spec/v1
oid sha256:a84ae11c5fef62fbef51da0861daf98f7a31258f89fb0a5413dfb7bcfa2a574d
size 84674
