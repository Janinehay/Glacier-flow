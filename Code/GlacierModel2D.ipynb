version https://git-lfs.github.com/spec/v1
oid sha256:d49a0830d3f88ca5c6a93f870fc7f15f4ad137c7128d4510ba461af28e195a0b
size 130928719
