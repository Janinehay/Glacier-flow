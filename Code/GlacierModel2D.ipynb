version https://git-lfs.github.com/spec/v1
oid sha256:c69b7b66763813d5fd36e7f49572ce3c1a23122e7c0acec30a233a73fbbce177
size 236403
