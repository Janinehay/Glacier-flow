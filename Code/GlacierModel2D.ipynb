version https://git-lfs.github.com/spec/v1
oid sha256:e0a2261aaeae3fa8fe6ca888d1e06ae337e1935f04e84da499f9e07e59c93d50
size 119510
