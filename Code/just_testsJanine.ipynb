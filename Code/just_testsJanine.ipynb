version https://git-lfs.github.com/spec/v1
oid sha256:b69e1b3273b1f5832e3c80c305becd077006c03aec03ee0df19aab563e9f4c47
size 270937
