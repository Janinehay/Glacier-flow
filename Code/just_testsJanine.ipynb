version https://git-lfs.github.com/spec/v1
oid sha256:f3fa8dc998f8c4cfaf8f3d4fb7bb9158d2afd0357eb1b273e1fcdb4d13fdbdd3
size 242055
