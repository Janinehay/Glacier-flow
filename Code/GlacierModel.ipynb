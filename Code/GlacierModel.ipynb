version https://git-lfs.github.com/spec/v1
oid sha256:062ec10c1742556e2e80eef8c163741771b3a5206363f5105c6eeec3756dd10a
size 99603
