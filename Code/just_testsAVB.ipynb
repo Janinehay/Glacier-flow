version https://git-lfs.github.com/spec/v1
oid sha256:73338b0465bf211332d80dcb4f2d1cc26a2a6fea0a624b856352044d2c3402ea
size 139864
