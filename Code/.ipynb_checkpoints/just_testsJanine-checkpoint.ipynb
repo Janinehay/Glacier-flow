version https://git-lfs.github.com/spec/v1
oid sha256:ad20d09d4db1149cab3d0f0113a07244d4a85d6c274ee4a8f544cdfe0ae97d42
size 293096
