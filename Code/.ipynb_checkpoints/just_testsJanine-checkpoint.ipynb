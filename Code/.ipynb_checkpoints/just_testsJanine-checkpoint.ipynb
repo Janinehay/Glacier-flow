version https://git-lfs.github.com/spec/v1
oid sha256:f1aed6fdf295991d9580a9752407ad842d879d2b71fd44f79965b2b7d9927a77
size 41777
