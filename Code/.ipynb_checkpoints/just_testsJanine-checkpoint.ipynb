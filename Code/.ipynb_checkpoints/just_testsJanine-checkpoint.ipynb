version https://git-lfs.github.com/spec/v1
oid sha256:a911e6ac300452f083a68514247d58e2c228d4a15ae400c222f1ee6a5fb3ec5f
size 288305
