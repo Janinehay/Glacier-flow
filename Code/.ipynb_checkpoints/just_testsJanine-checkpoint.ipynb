version https://git-lfs.github.com/spec/v1
oid sha256:42ff93164098f99ed4814da1a1bbf33f81002d5544147c04df34932555b20216
size 324248
