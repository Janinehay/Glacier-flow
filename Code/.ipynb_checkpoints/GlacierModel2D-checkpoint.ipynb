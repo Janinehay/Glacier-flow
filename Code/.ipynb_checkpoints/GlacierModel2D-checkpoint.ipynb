version https://git-lfs.github.com/spec/v1
oid sha256:e5f6884d62999313b51ff59c5ce65ad3783bfd5e1206619331901bb3173ee920
size 55600
