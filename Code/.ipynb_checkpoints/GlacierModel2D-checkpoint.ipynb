version https://git-lfs.github.com/spec/v1
oid sha256:6892dee117b955f449c120a7d699ec729c24a9b517f43dbf0f15d18be5f4b6e1
size 147643
