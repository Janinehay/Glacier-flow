version https://git-lfs.github.com/spec/v1
oid sha256:47d3a2f8a948e1c98c0875758f8ecc73052e8244e2ad762f30f7ea22445b8727
size 348510628
