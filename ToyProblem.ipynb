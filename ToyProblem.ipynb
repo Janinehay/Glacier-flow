{
 "cells": [
  {
   "cell_type": "code",
   "execution_count": 1,
   "metadata": {},
   "outputs": [],
   "source": [
    "import numpy as np\n",
    "import matplotlib.pyplot as plt"
   ]
  },
  {
   "cell_type": "code",
   "execution_count": 2,
   "metadata": {},
   "outputs": [],
   "source": [
    "dx = 1\n",
    "timesteps = 400\n",
    "x_m = 50\n",
    "x = np.arange(0.,x_m + x_m/2. + dx,dx, dtype='int64')\n",
    "Nx = len(x)\n",
    "u = [[0 for i in range(timesteps)] for j in range(Nx)]\n",
    "U = []\n",
    "f_plus = [[0 for i in range(timesteps)] for j in range(Nx)]\n",
    "f_min = [[0 for i in range(timesteps)] for j in range(Nx)]"
   ]
  },
  {
   "cell_type": "code",
   "execution_count": 3,
   "metadata": {},
   "outputs": [],
   "source": [
    "#initial conditions\n",
    "for  j in range(len(x)):\n",
    "        if x[j] <= 0:\n",
    "            ux0 = 1\n",
    "            u[j][0]=(ux0)\n",
    "                \n",
    "\n",
    "        elif x[j]> 0:\n",
    "            ux0 = -0.5\n",
    "            u[j][0]=(ux0)"
   ]
  },
  {
   "cell_type": "code",
   "execution_count": 4,
   "metadata": {},
   "outputs": [],
   "source": [
    "def minmod(a,b):\n",
    "    minmod = (np.sign(a)+np.sign(b))/2*(min(np.abs(a), np.abs(b)))\n",
    "    return minmod\n",
    "def h(a,c):\n",
    "    if a<=c:\n",
    "        u_min = min(a,c)\n",
    "        h = u_min+(1/2)*u_min*u_min\n",
    "    elif a>c:\n",
    "        u_max = max(a,c)\n",
    "        h = u_max+(1/2)*u_max*u_max\n",
    "    return h\n",
    "def L(a,b):\n",
    "    L=(1/dx)*(a-b)\n",
    "    return L"
   ]
  },
  {
   "cell_type": "code",
   "execution_count": 5,
   "metadata": {},
   "outputs": [
    {
     "data": {
      "image/png": "[encoded data removed]",
      "text/plain": [
       "<Figure size 432x288 with 1 Axes>"
      ]
     },
     "metadata": {
      "needs_background": "light"
     },
     "output_type": "display_data"
    }
   ],
   "source": [
    "for n in range(0, timesteps-1):\n",
    "    deltat = (dx/2)*np.amax(np.abs(u))\n",
    "    #print(\"n=\",n)\n",
    "    for  j in range(Nx):\n",
    "        #print(\"j=\", j)\n",
    "        \n",
    "        if j+(2) < x_m:\n",
    "            # calculate j+1/2 index\n",
    "            u_min_up = u[j][n]+1/2*minmod(u[j+1][n]-u[j][n], u[j][n]-u[j-1][n])\n",
    "            #print(\"u_min_up=\", u_min_up)\n",
    "            u_plus_up = u[j+1][n]-1/2*minmod(u[j+2][n]-u[j+1][n], u[j+1][n]-u[j][n])                \n",
    "            #print(\"u_plus_up=\", u_plus_up)\n",
    "            # calculate j-1/2 index                                   \n",
    "            u_min_down = u[j][n]+1/2*minmod(u[j-1][n]-u[j][n], u[j][n]-u[j+1][n])\n",
    "            u_plus_down = u[j-1][n]-1/2*minmod(u[j-2][n]-u[j-1][n], u[j-1][n]-u[j][n])\n",
    "        \n",
    "        # calculate f\n",
    "        f_plus[j][n] = h(u_min_up, u_plus_up)\n",
    "        #print(\"f_plus = \", f_plus[j][n])\n",
    "        f_min[j][n] = h(u_min_down, u_plus_down)\n",
    "        #print(\"f_min = \", f_plus[j][n])\n",
    "        \n",
    "        #print(\"f_min = \", f_min)\n",
    "        #print(\"j=\", j)\n",
    "        if n == 0:\n",
    "            Lis = L(f_plus[j][n], f_min[j][n])\n",
    "            #print(\"L =\", Lis)\n",
    "            unplus = u[j][n]+deltat*Lis #equation 2.4 part 1\n",
    "        \n",
    "        #unplus=u[j][n]-(deltat)*L(f_plus, f_min) #equation 1.10\n",
    "        else: \n",
    "            Lis = L(f_plus[j][n], f_min[j][n])\n",
    "            #print(\"L =\", Lis)\n",
    "            unplus = u[j][n]+(1/2)*deltat*Lis+(1/2)*deltat*L(f_plus[j][n-1], f_min[j][n-1])\n",
    "        \n",
    "        u[j][n+1]=unplus\n",
    "        #print(\"un+1= \", unplus)\n",
    "        \n",
    "        if n == timesteps-2:\n",
    "            U.append(u[j][n])\n",
    "            #print(\"j = \", j , \"u = \", U[j])\n",
    "        \n",
    "plt.plot(x,U)\n",
    "\n",
    "plt.show()"
   ]
  },
  {
   "cell_type": "code",
   "execution_count": null,
   "metadata": {},
   "outputs": [],
   "source": []
  }
 ],
 "metadata": {
  "kernelspec": {
   "display_name": "Python 3",
   "language": "python",
   "name": "python3"
  },
  "language_info": {
   "codemirror_mode": {
    "name": "ipython",
    "version": 3
   },
   "file_extension": ".py",
   "mimetype": "text/x-python",
   "name": "python",
   "nbconvert_exporter": "python",
   "pygments_lexer": "ipython3",
   "version": "3.8.5"
  }
 },
 "nbformat": 4,
 "nbformat_minor": 4
}
